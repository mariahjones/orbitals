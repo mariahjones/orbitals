{
 "cells": [
  {
   "cell_type": "markdown",
   "id": "2b78bc86-56aa-4329-970b-4dd95af0f5bc",
   "metadata": {},
   "source": [
    "# Reading Binary Files"
   ]
  },
  {
   "cell_type": "code",
   "execution_count": 1,
   "id": "b26e8900-92d5-4ad7-9527-b56153bb20de",
   "metadata": {
    "tags": []
   },
   "outputs": [],
   "source": [
    "import rebound\n",
    "import numpy as np\n",
    "import pandas as pd\n",
    "%matplotlib inline\n",
    "import matplotlib.pyplot as plt"
   ]
  },
  {
   "cell_type": "code",
   "execution_count": 2,
   "id": "8c805930-7023-4e8f-b670-394dde167637",
   "metadata": {
    "tags": []
   },
   "outputs": [],
   "source": [
    "class read_binary_files:\n",
    "    def __init__(self, filenames):\n",
    "        self.filenames = filenames\n",
    "        self.data = self.saturns_trojans()\n",
    "\n",
    "    def saturns_trojans(self):\n",
    "        '''\n",
    "        Reads binary files and extracts orbital elements from snapshots.\n",
    "        '''\n",
    "        saturns_trojans = []\n",
    "\n",
    "        for filename in self.filenames:\n",
    "            sa = rebound.Simulationarchive(filename)\n",
    "\n",
    "            tmax = sa.tmax\n",
    "            tmin = sa.tmin\n",
    "            nshots = len(sa)  # number of snapshots\n",
    "\n",
    "            times = np.linspace(tmin, tmax, nshots)\n",
    "\n",
    "            orbital_elements = []\n",
    "\n",
    "            # Load in each snapshot\n",
    "            for i in range(nshots):\n",
    "                ps = sa[i].particles  # particles at snapshot i\n",
    "                os = sa[i].orbits(primary=ps[0])  # orbits relative to the primary particle\n",
    "\n",
    "                # Lists to hold orbital elements for the current snapshot\n",
    "                a = []\n",
    "                ecc = []\n",
    "                inc = []\n",
    "                omega = []\n",
    "                Omega = []\n",
    "                f = []\n",
    "                mean_lon = []\n",
    "\n",
    "                for j in range(len(os)):\n",
    "                    a.append(os[j].a)\n",
    "                    ecc.append(os[j].e)\n",
    "                    inc.append(np.degrees(os[j].inc))\n",
    "                    omega.append(os[j].omega)\n",
    "                    Omega.append(os[j].Omega)\n",
    "                    f.append(os[j].f)\n",
    "                    mean_lon.append(os[j].l)\n",
    "\n",
    "                # Append the lists of orbital elements for the current snapshot\n",
    "                orbital_elements.append([a, ecc, inc, omega, Omega, f, mean_lon])\n",
    "\n",
    "            # Append the times and orbital elements for all snapshots of the current file\n",
    "            saturns_trojans.append((times, orbital_elements))\n",
    "\n",
    "        return saturns_trojans\n",
    "\n",
    "    def get_orbital_elements(self, file_index, snapshot_index, element_index, particle_index=None):\n",
    "        times, orbital_elements = self.data[file_index]\n",
    "        snapshot = orbital_elements[snapshot_index]\n",
    "        element = snapshot[element_index]\n",
    "\n",
    "        if particle_index is not None:\n",
    "            return element[particle_index]\n",
    "        return element\n",
    "\n",
    "    def get_times(self, file_index, snapshot_index):\n",
    "        times, orbital_elements = self.data[file_index]\n",
    "        return times"
   ]
  },
  {
   "cell_type": "code",
   "execution_count": 9,
   "id": "385a8391-ed33-4503-9656-66a5e5070d78",
   "metadata": {
    "tags": []
   },
   "outputs": [],
   "source": [
    "def plot_orbital_elements(reader, file_index, element_index, particle_index_1, particle_index_2=None, operation=None):\n",
    "    # Get the times and all orbital elements\n",
    "    times, all_orbital_elements = reader.data[file_index]\n",
    "\n",
    "    # Extract the specified orbital elements for all snapshots\n",
    "    orbital_elements_1 = [snapshot[element_index][particle_index_1] for snapshot in all_orbital_elements]\n",
    "\n",
    "    if particle_index_2 is not None:\n",
    "        orbital_elements_2 = [snapshot[element_index][particle_index_2] for snapshot in all_orbital_elements]\n",
    "        if operation == \"difference\":\n",
    "            orbital_elements = [oe1 - oe2 for oe1, oe2 in zip(orbital_elements_1, orbital_elements_2)]\n",
    "        elif operation == \"sum\":\n",
    "            orbital_elements = [oe1 + oe2 for oe1, oe2 in zip(orbital_elements_1, orbital_elements_2)]\n",
    "        elif operation == \"ratio\":\n",
    "            orbital_elements = [oe1 / oe2 if oe2 != 0 else np.nan for oe1, oe2 in zip(orbital_elements_1, orbital_elements_2)]\n",
    "        else:\n",
    "            raise ValueError(\"Unsupported operation. Use 'difference', 'sum', or 'ratio'.\")\n",
    "    else:\n",
    "        orbital_elements = orbital_elements_1\n",
    "\n",
    "    # Plot the orbital elements against time\n",
    "    plt.figure(figsize=(10, 6))\n",
    "    plt.plot(times, orbital_elements, label='Orbital Element', linestyle='None', marker='o', markersize=3, color = 'teal')\n",
    "    plt.xlabel('Time')\n",
    "    plt.ylabel('lambda_particle - lamnda_1b')\n",
    "    plt.title('Difference in Mean Longitude over Time')\n",
    "    plt.legend()\n",
    "    plt.show()"
   ]
  },
  {
   "cell_type": "code",
   "execution_count": 12,
   "id": "ef3c7343-ab96-4f03-be3c-5f9cc934648b",
   "metadata": {
    "tags": []
   },
   "outputs": [
    {
     "data": {
      "image/png": "[encoded data removed]",
      "text/plain": [
       "<Figure size 1000x600 with 1 Axes>"
      ]
     },
     "metadata": {},
     "output_type": "display_data"
    }
   ],
   "source": [
    "filenames = [\"trappist_1b.bin\",\"trappist_1c.bin\",\"trappist_1d.bin\",\"trappist_1e.bin\",\"trappist_1f.bin\",\"trappist_1g.bin\",\"trappist_1h.bin\"]\n",
    "reader = read_binary_files(filenames)\n",
    "\n",
    "plot_orbital_elements(reader, file_index=1, element_index=6, particle_index_1=10, particle_index_2=1, operation=\"difference\")"
   ]
  },
  {
   "cell_type": "code",
   "execution_count": null,
   "id": "9e5be158-77ad-4f9d-8477-e1c0b31d0ab5",
   "metadata": {},
   "outputs": [],
   "source": []
  }
 ],
 "metadata": {
  "kernelspec": {
   "display_name": "Python 3 (ipykernel)",
   "language": "python",
   "name": "python3"
  },
  "language_info": {
   "codemirror_mode": {
    "name": "ipython",
    "version": 3
   },
   "file_extension": ".py",
   "mimetype": "text/x-python",
   "name": "python",
   "nbconvert_exporter": "python",
   "pygments_lexer": "ipython3",
   "version": "3.11.5"
  }
 },
 "nbformat": 4,
 "nbformat_minor": 5
}
