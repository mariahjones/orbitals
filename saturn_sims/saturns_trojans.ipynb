{
 "cells": [
  {
   "cell_type": "markdown",
   "id": "4afcfbac-4d80-4568-80e9-96a25cf93ccc",
   "metadata": {},
   "source": [
    "# Trojans of Saturn"
   ]
  },
  {
   "cell_type": "markdown",
   "id": "9f0b0bac-f737-49cb-8f11-ca0133799cfe",
   "metadata": {},
   "source": [
    "Set up using orbital elements as opposed to to xyz vectors. Start with Saturn's orbital elements, and change the a, ecc, and omega to create Trojans for Saturn. The trojans are 60 degrees ahead of Saturn, but we also want their perihelion to be 60 degrees  ahead of that of Saturn, so we only need to change omega. All hypothetical particles will have the same inc, Omega, and f as Saturn, their omega should be $\\frac{\\pi}{3}$ larger, and a and ecc would be taken from a grid. \n",
    "\\\n",
    "Let's run 20 particles per simulation, all with different semimajor axes and run six simulations, with particles in each having eccentricities between 0 and 0.1, with a 0.02 step."
   ]
  },
  {
   "cell_type": "markdown",
   "id": "4e59d0b5-9f19-4a33-a4ee-9cad5207879d",
   "metadata": {},
   "source": [
    "## Build the sim"
   ]
  },
  {
   "cell_type": "code",
   "execution_count": 1,
   "id": "70f18a6c-a761-4c79-9e78-3f84d0663f51",
   "metadata": {
    "tags": []
   },
   "outputs": [
    {
     "name": "stdout",
     "output_type": "stream",
     "text": [
      "/Users/mariahjones/Desktop/Research/projects/Orbitals\n"
     ]
    }
   ],
   "source": [
    "cd /Users/mariahjones/Desktop/Research/projects/Orbitals/"
   ]
  },
  {
   "cell_type": "code",
   "execution_count": 1,
   "id": "b26e8900-92d5-4ad7-9527-b56153bb20de",
   "metadata": {
    "tags": []
   },
   "outputs": [],
   "source": [
    "import rebound\n",
    "import numpy as np\n",
    "import pandas as pd"
   ]
  },
  {
   "cell_type": "code",
   "execution_count": 2,
   "id": "6593ba98-d1cc-4a36-9a21-672cafaf7725",
   "metadata": {
    "tags": []
   },
   "outputs": [],
   "source": [
    "%matplotlib inline\n",
    "import matplotlib.pyplot as plt"
   ]
  },
  {
   "cell_type": "code",
   "execution_count": 3,
   "id": "ab8bcf4f-c90c-45bd-980e-94de4945ff1b",
   "metadata": {
    "tags": []
   },
   "outputs": [],
   "source": [
    "sim = rebound.Simulation()\n",
    "sim.integrator = \"trace\"\n",
    "#sim.dt = 1\n",
    "#sim.save_to_file('trojans1.bin', interval=1e4,delete_file=True) # save as binary file"
   ]
  },
  {
   "cell_type": "markdown",
   "id": "d38adcc6-07c0-4819-99df-67ea488cb26c",
   "metadata": {},
   "source": [
    "## Create hypothetical orbitals based on Saturn's orbital elements"
   ]
  },
  {
   "cell_type": "markdown",
   "id": "c737fd1f-c11f-4e1a-bad7-25e27d4b7b27",
   "metadata": {},
   "source": [
    "\n",
    "The first particle has the same semi-major axis as Saturn, the last should be a one HiII radius larger orbit (fractional HiII radius is definted by Eq. 3.75 in Murray and Dermott). So, the largest initial semi-major axis should be a_saturn * (1 + alpha) where alpha is from Eq. 3.75. The picture on page 83 shows how the Trojan region has approximately this width, so that's why we want to have 20 particles distributed between a_saturn and a_saturn * (1 + alpha). Start with a single short simulation (~100 years or so) to test if it works."
   ]
  },
  {
   "cell_type": "code",
   "execution_count": 4,
   "id": "aa4a6af4-6a3a-41e9-abe5-02560ccc2ecb",
   "metadata": {
    "tags": []
   },
   "outputs": [],
   "source": [
    "# Convert au/days to au/years\n",
    "vel_x = [0.0, -6.584186332911239E-03,1.361833139322700E-03, -3.176609453266956E-03, 1.106505958060795E-04]\n",
    "vel_y = [0.0, 4.208054867943963E-03, 5.314892732297496E-03, 2.188750863994737E-03, 3.160539398425530E-03]\n",
    "vel_z = [0.0, 1.298323287693746E-04, -1.466946539551684E-04, 4.926573452085599E-05, -6.757068282993264E-05]\n",
    "\n",
    "vel_x = np.array(vel_x) * 365.25636\n",
    "vel_y = np.array(vel_y) * 365.25636\n",
    "vel_z = np.array(vel_z) * 365.25636\n",
    "\n",
    "\n",
    "# Convert mass to integration units\n",
    "sol_mass = (2 * np.pi)**2 # integration units\n",
    "sol_gm = (1.33E20) # real units\n",
    "\n",
    "jup_gm = 1.27E17 \n",
    "jup_mass = (jup_gm / sol_gm) * sol_mass\n",
    "\n",
    "\n",
    "sat_gm = 3.79E16\n",
    "sat_mass = (sat_gm / sol_gm) * sol_mass\n",
    "\n",
    "ur_gm = 5.79E15 \n",
    "ur_mass = (ur_gm / sol_gm) * sol_mass\n",
    "\n",
    "nep_gm = 6.84E15\n",
    "nep_mass = (nep_gm / sol_gm) * sol_mass\n",
    "\n",
    "\n",
    "# add particles to the simulation\n",
    "\n",
    "sim.add(m = sol_mass, x = 0, y = 0, z = 0,\n",
    "        vx = vel_x[0], vy = vel_y[0], vz = vel_z[0], hash = 'Sun')\n",
    "sim.add(m = jup_mass, x = 2.559959519433896E+00, y = 4.317254861986015E+00, z =-7.520814690745442E-02,\n",
    "        vx= vel_x[1], vy= vel_y[1], vz= vel_z[1], hash = 'Jupiter')\n",
    "sim.add(m = sat_mass, x = 9.241056053800349E+00, y =-2.909785985421069E+00, z =-3.171865429820031E-01,\n",
    "        vx= vel_x[2], vy= vel_y[2], vz= vel_z[2], hash = 'Saturn')\n",
    "sim.add(m = ur_mass, x = 1.178746554190535E+01, y = 1.564471912991385E+01, z =-9.472686043780910E-02,\n",
    "        vx= vel_x[3], vy= vel_y[3], vz= vel_z[3], hash = 'Uranus')\n",
    "sim.add(m = nep_mass, x = 2.986403735565160E+01, y =-1.304275085444185E+00, z =-6.613439117521470E-01,\n",
    "        vx= vel_x[4], vy= vel_y[4], vz= vel_z[4], hash = 'Neptune')"
   ]
  },
  {
   "cell_type": "code",
   "execution_count": 6,
   "id": "c7631f97-809d-4a04-8bd6-66425f63419d",
   "metadata": {
    "collapsed": true,
    "jupyter": {
     "outputs_hidden": true
    },
    "tags": []
   },
   "outputs": [
    {
     "name": "stdout",
     "output_type": "stream",
     "text": [
      "---------------------------------\n",
      "REBOUND version:     \t4.4.1\n",
      "REBOUND built on:    \tMay  7 2024 19:50:41\n",
      "Number of particles: \t5\n",
      "Selected integrator: \ttrace\n",
      "Simulation time:     \t0.0000000000000000e+00\n",
      "Current timestep:    \t0.001000\n",
      "---------------------------------\n",
      "<rebound.particle.Particle object at 0x10f54a850, m=39.47841760435743 x=0.0 y=0.0 z=0.0 vx=0.0 vy=0.0 vz=0.0>\n",
      "<rebound.particle.Particle object at 0x10f54a7d0, m=0.03769743635904807 x=2.559959519433896 y=4.317254861986015 z=-0.07520814690745442 vx=-2.404915933520907 vy=1.5370188037454926 vz=0.04742208381662504>\n",
      "<rebound.particle.Particle object at 0x10f54a850, m=0.01124986486620411 x=9.24105605380035 y=-2.909785985421069 z=-0.3171865429820031 vx=0.49741821539638226 vy=1.9412983731894378 vz=-0.053581155335124406>\n",
      "<rebound.particle.Particle object at 0x10f54a7d0, m=0.0017186469017235304 x=11.78746554190535 y=15.64471912991385 z=-0.0947268604378091 vx=-1.1602768060418784 vy=0.7994551735295726 vz=0.0179946228638142>\n",
      "<rebound.particle.Particle object at 0x10f54a850, m=0.002030318619652668 x=29.8640373556516 y=-1.304275085444185 z=-0.661343911752147 vx=0.040415833855959864 vy=1.1544071163054987 vz=-0.024680621653175694>\n",
      "---------------------------------\n"
     ]
    }
   ],
   "source": [
    "sim.status(showAllFields=False)"
   ]
  },
  {
   "cell_type": "code",
   "execution_count": 5,
   "id": "572e4d25-9bf8-4c32-8f9c-0dc6e956164b",
   "metadata": {},
   "outputs": [],
   "source": [
    "ps = sim.particles\n",
    "os = sim.orbits()\n",
    "\n",
    "\n",
    "a_start = os[1].a\n",
    "a_end = a_start * (1 + (sat_mass / 3 * sol_mass) ** 1/3)\n",
    "\n",
    "sem_maj_ax = np.linspace(a_start, a_end, 20)\n",
    "#print(sem_maj_ax)\n",
    "\n",
    "eccs = [0.1, 0.08, 0.06, 0.04, 0.02, 0.]\n",
    "\n",
    "ecc = eccs[0]\n",
    "omega = os[1].omega + (np.pi / 3)\n",
    "inc = os[1].inc\n",
    "Omega = os[1].Omega\n",
    "f = os[1].f"
   ]
  },
  {
   "cell_type": "code",
   "execution_count": 6,
   "id": "5972e1dc-bae0-40f0-9047-01222644f5e0",
   "metadata": {
    "tags": []
   },
   "outputs": [],
   "source": [
    "for i in range(20):\n",
    "    a = sem_maj_ax[i]\n",
    "    \n",
    "    sim.add(a = a, e = ecc, inc = inc, omega = omega, Omega = Omega, f = f)"
   ]
  },
  {
   "cell_type": "code",
   "execution_count": null,
   "id": "fa1b07c5-f028-4868-82bc-48066a1456d3",
   "metadata": {},
   "outputs": [],
   "source": [
    "sim.N_active = 5 # number of active particles, sun and four giants"
   ]
  },
  {
   "cell_type": "code",
   "execution_count": 7,
   "id": "a8eb0d6e-4f91-4b8f-93d9-419d566498dc",
   "metadata": {
    "tags": []
   },
   "outputs": [],
   "source": [
    "Nout = 10  # number of points to display, corresponding to 10^4 years\n",
    "tmax = 1000  # run the simulation for 10^8 years"
   ]
  },
  {
   "cell_type": "code",
   "execution_count": 8,
   "id": "e89b6f5f-982b-42f7-9749-bc7a9ff7a8dd",
   "metadata": {
    "tags": []
   },
   "outputs": [],
   "source": [
    "#Nout = 10000  # number of points to display, corresponding to 10^4 years\n",
    "#tmax = 100000000  # run the simulation for 10^8 years\n",
    "\n",
    "times = np.linspace(0., tmax, Nout)\n",
    "\n",
    "for time in times:\n",
    "    sim.integrate(time)\n",
    "    os = sim.orbits()  # Update os with the latest orbits\n",
    "    remove_indices = [i for i, orbit in enumerate(os) if orbit.a <= 0]\n",
    "    for i in sorted(remove_indices, reverse=True):\n",
    "        sim.remove(i+1)"
   ]
  },
  {
   "cell_type": "code",
   "execution_count": null,
   "id": "8b2bbd84-57ad-41d9-87a7-8f2230467c59",
   "metadata": {},
   "outputs": [],
   "source": []
  }
 ],
 "metadata": {
  "kernelspec": {
   "display_name": "Python 3 (ipykernel)",
   "language": "python",
   "name": "python3"
  },
  "language_info": {
   "codemirror_mode": {
    "name": "ipython",
    "version": 3
   },
   "file_extension": ".py",
   "mimetype": "text/x-python",
   "name": "python",
   "nbconvert_exporter": "python",
   "pygments_lexer": "ipython3",
   "version": "3.11.5"
  }
 },
 "nbformat": 4,
 "nbformat_minor": 5
}
