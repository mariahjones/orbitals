{
 "cells": [
  {
   "cell_type": "markdown",
   "id": "faaa1d36-af68-4fb4-adbf-207d0b0a3bc2",
   "metadata": {},
   "source": [
    "# TRAPPIST-1 Rebound Simulations"
   ]
  },
  {
   "cell_type": "code",
   "execution_count": 1,
   "id": "b26e8900-92d5-4ad7-9527-b56153bb20de",
   "metadata": {
    "tags": []
   },
   "outputs": [],
   "source": [
    "import rebound\n",
    "import numpy as np"
   ]
  },
  {
   "cell_type": "code",
   "execution_count": 2,
   "id": "ab8bcf4f-c90c-45bd-980e-94de4945ff1b",
   "metadata": {
    "tags": []
   },
   "outputs": [],
   "source": [
    "sim = rebound.Simulation()\n",
    "sim.integrator = \"trace\"\n",
    "sim.dt = 0.0003\n",
    "#sim.save_to_file('trappist_1b.bin', interval=1e4,delete_file=True) # save as binary file"
   ]
  },
  {
   "cell_type": "code",
   "execution_count": 3,
   "id": "7d902a06-f119-43a4-ad46-eae8dbfbc096",
   "metadata": {
    "tags": []
   },
   "outputs": [],
   "source": [
    "sol_mass = (2 * np.pi)**2 \n",
    "\n",
    "jup_gm = 1.27E17 \n",
    "jup_mass = (jup_gm / (1.33E20)) * sol_mass\n",
    "\n",
    "star_mass = 0.0898 * sol_mass\n",
    "\n",
    "b_mass = 0.004323 * jup_mass\n",
    "\n",
    "c_mass = 0.004115 * jup_mass\n",
    "\n",
    "d_mass = 0.00122 * jup_mass\n",
    "\n",
    "e_mass = 0.00218 * jup_mass\n",
    "\n",
    "f_mass = 0.003269 * jup_mass\n",
    "\n",
    "g_mass = 0.004156 * jup_mass\n",
    "\n",
    "h_mass = 0.00103 * jup_mass\n",
    "\n",
    "# add particles to the simulation (8)\n",
    "\n",
    "sim.add(m = star_mass, hash = 'TRAPPIST-1')\n",
    "sim.add(m = b_mass, a = 0.01154, inc = (90 - 89.728) * (np.pi/180), hash = 'TRAPPIST-1b')\n",
    "sim.add(m = c_mass, a = 0.01580, inc = (90 - 89.778) * (np.pi/180), hash = 'TRAPPIST-1c')\n",
    "sim.add(m = d_mass, a = 0.02227, inc = (90 - 89.896) * (np.pi/180), hash = 'TRAPPIST-1d')\n",
    "sim.add(m = e_mass, a = 0.02925, inc = (90 - 89.793) * (np.pi/180), hash = 'TRAPPIST-1e')\n",
    "sim.add(m = f_mass, a = 0.03849, inc = (90 - 89.740) * (np.pi/180), hash = 'TRAPPIST-1f')\n",
    "sim.add(m = g_mass, a = 0.04683, inc = (90 - 89.742) * (np.pi/180), hash = 'TRAPPIST-1g')\n",
    "sim.add(m = h_mass, a = 0.06189, inc = (90 - 89.805) * (np.pi/180), hash = 'TRAPPIST-1h')"
   ]
  },
  {
   "cell_type": "code",
   "execution_count": 4,
   "id": "3e3aa07d-90aa-4270-91fc-4ade9311c4ad",
   "metadata": {},
   "outputs": [],
   "source": [
    "# add trojans\n",
    "ps = sim.particles\n",
    "os = sim.orbits()\n",
    "\n",
    "\n",
    "#change for each sim\n",
    "a_start = ps['TRAPPIST-1b'].a\n",
    "a_end = a_start * (1 + (b_mass / 3 * star_mass) ** 1/3)\n",
    "\n",
    "sem_maj_ax = np.linspace(a_start, a_end, 20)\n",
    "#print(sem_maj_ax)\n",
    "\n",
    "#eccs = [0.1, 0.08, 0.06, 0.04, 0.02, 0.]\n",
    "\n",
    "#ecc = eccs[0]\n",
    "omega = os[0].omega + (np.pi / 3)\n",
    "inc = os[0].inc\n",
    "Omega = os[0].Omega\n",
    "f = os[0].f"
   ]
  },
  {
   "cell_type": "code",
   "execution_count": 5,
   "id": "e99bfc87-b4cb-46c3-a539-8e37b4ce3e15",
   "metadata": {
    "tags": []
   },
   "outputs": [],
   "source": [
    "for i in range(20):\n",
    "    a = sem_maj_ax[i]\n",
    "    hash_val = 'Trojan_1b_{}'.format(i)\n",
    "    \n",
    "    sim.add(a = a, inc = inc, omega = omega, Omega = Omega, f = f, hash = hash_val)\n",
    "\n",
    "sim.N_active = 8 # number of active (non-massless) particles, sun and seven planets"
   ]
  },
  {
   "cell_type": "code",
   "execution_count": 7,
   "id": "9e9ae9f0-2df2-4d4a-a4ff-53be009f8d3d",
   "metadata": {
    "tags": []
   },
   "outputs": [],
   "source": [
    "Nout = 10000 # number of points to display\n",
    "tmax = 10000 # let the simulation run for 80 years\n",
    "Nplanets = 7\n",
    "\n",
    "a = np.zeros((Nplanets,Nout))\n",
    "#ecc = np.zeros((Nplanets,Nout))\n",
    "Omega = np.zeros((Nplanets,Nout))\n",
    "omega = np.zeros((Nplanets,Nout))\n",
    "inc = np.zeros((Nplanets, Nout))\n",
    "f = np.zeros((Nplanets, Nout))\n",
    "\n",
    "times = np.linspace(0.,tmax,Nout)\n",
    "ps = sim.particles\n",
    "\n",
    "for i,time in enumerate(times):\n",
    "    sim.integrate(time)\n",
    "    os = sim.orbits()\n",
    "    for j in range(Nplanets):\n",
    "        a[j][i] = os[j].a \n",
    "        #ecc[j][i] = os[j].e\n",
    "        Omega[j][i] = os[j].Omega\n",
    "        omega[j][i] = os[j].omega\n",
    "        inc[j][i] = os[j].inc\n",
    "        f[j][i] = os[j].f\n",
    "        \n",
    "        # remove escaped particles\n",
    "        remove_indices = [i for i, orbit in enumerate(os) if orbit.a <= 0 or orbit.a >= 1]\n",
    "        for i in sorted(remove_indices, reverse=True):\n",
    "            sim.remove(i+1)"
   ]
  },
  {
   "cell_type": "markdown",
   "id": "62332ab1-1ab1-40ee-a00e-8a0beebcf0ee",
   "metadata": {},
   "source": [
    "### Reading in the archives"
   ]
  },
  {
   "cell_type": "code",
   "execution_count": 8,
   "id": "7dc54cba-5ad3-4d69-9c99-c21153788ac1",
   "metadata": {
    "tags": []
   },
   "outputs": [],
   "source": [
    "sa = rebound.Simulationarchive(\"trappist_1b.bin\")"
   ]
  },
  {
   "cell_type": "code",
   "execution_count": 9,
   "id": "622367ed-074c-4350-b461-1c5573286c4d",
   "metadata": {
    "tags": []
   },
   "outputs": [
    {
     "name": "stdout",
     "output_type": "stream",
     "text": [
      "Number of snapshots: 2\n",
      "Time of first and last snapshot: 0.0, 10000.0\n"
     ]
    }
   ],
   "source": [
    "print(\"Number of snapshots: %d\" % len(sa))\n",
    "print(\"Time of first and last snapshot: %.1f, %.1f\" % (sa.tmin, sa.tmax))"
   ]
  },
  {
   "cell_type": "code",
   "execution_count": 7,
   "id": "dc1c556f-444e-4a06-8278-d64bd5731cf6",
   "metadata": {
    "tags": []
   },
   "outputs": [
    {
     "ename": "IndexError",
     "evalue": "Index out of range, number of snapshots stored in binary: 2.",
     "output_type": "error",
     "traceback": [
      "\u001b[0;31m---------------------------------------------------------------------------\u001b[0m",
      "\u001b[0;31mIndexError\u001b[0m                                Traceback (most recent call last)",
      "Cell \u001b[0;32mIn[7], line 1\u001b[0m\n\u001b[0;32m----> 1\u001b[0m ps \u001b[38;5;241m=\u001b[39m sa[\u001b[38;5;241m10\u001b[39m]\u001b[38;5;241m.\u001b[39mparticles\n\u001b[1;32m      2\u001b[0m os \u001b[38;5;241m=\u001b[39m sa[\u001b[38;5;241m10\u001b[39m]\u001b[38;5;241m.\u001b[39morbits(primary\u001b[38;5;241m=\u001b[39mps[\u001b[38;5;241m0\u001b[39m])\n\u001b[1;32m      3\u001b[0m \u001b[38;5;28mprint\u001b[39m(os)\n",
      "File \u001b[0;32m~/anaconda3/lib/python3.11/site-packages/rebound/simulationarchive.py:128\u001b[0m, in \u001b[0;36mSimulationarchive.__getitem__\u001b[0;34m(self, key)\u001b[0m\n\u001b[1;32m    126\u001b[0m     key \u001b[38;5;241m+\u001b[39m\u001b[38;5;241m=\u001b[39m \u001b[38;5;28mlen\u001b[39m(\u001b[38;5;28mself\u001b[39m)\n\u001b[1;32m    127\u001b[0m \u001b[38;5;28;01mif\u001b[39;00m key\u001b[38;5;241m>\u001b[39m\u001b[38;5;241m=\u001b[39m \u001b[38;5;28mlen\u001b[39m(\u001b[38;5;28mself\u001b[39m) \u001b[38;5;129;01mor\u001b[39;00m key\u001b[38;5;241m<\u001b[39m\u001b[38;5;241m0\u001b[39m:\n\u001b[0;32m--> 128\u001b[0m     \u001b[38;5;28;01mraise\u001b[39;00m \u001b[38;5;167;01mIndexError\u001b[39;00m(\u001b[38;5;124m\"\u001b[39m\u001b[38;5;124mIndex out of range, number of snapshots stored in binary: \u001b[39m\u001b[38;5;132;01m%d\u001b[39;00m\u001b[38;5;124m.\u001b[39m\u001b[38;5;124m\"\u001b[39m\u001b[38;5;241m%\u001b[39m\u001b[38;5;28mlen\u001b[39m(\u001b[38;5;28mself\u001b[39m))\n\u001b[1;32m    130\u001b[0m w \u001b[38;5;241m=\u001b[39m c_int(\u001b[38;5;241m0\u001b[39m)\n\u001b[1;32m    131\u001b[0m sim \u001b[38;5;241m=\u001b[39m Simulation()\n",
      "\u001b[0;31mIndexError\u001b[0m: Index out of range, number of snapshots stored in binary: 2."
     ]
    }
   ],
   "source": [
    "ps = sa[10].particles\n",
    "os = sa[10].orbits(primary=ps[0])\n",
    "print(os)"
   ]
  },
  {
   "cell_type": "code",
   "execution_count": null,
   "id": "31c157ed-554a-4482-809a-2c9826a80b36",
   "metadata": {},
   "outputs": [],
   "source": []
  }
 ],
 "metadata": {
  "kernelspec": {
   "display_name": "Python 3 (ipykernel)",
   "language": "python",
   "name": "python3"
  },
  "language_info": {
   "codemirror_mode": {
    "name": "ipython",
    "version": 3
   },
   "file_extension": ".py",
   "mimetype": "text/x-python",
   "name": "python",
   "nbconvert_exporter": "python",
   "pygments_lexer": "ipython3",
   "version": "3.11.5"
  }
 },
 "nbformat": 4,
 "nbformat_minor": 5
}
